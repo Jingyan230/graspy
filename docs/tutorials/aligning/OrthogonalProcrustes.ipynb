{
 "cells": [
  {
   "cell_type": "markdown",
   "metadata": {},
   "source": [
    "# OrthogonalProcrustes\n",
    "\n",
    "OrthogonalProcrustes helps a dataset X, to align with another dataset Y. It can be applied to two datasets that have same number of entries and some correspondence between the entries. In graph embeddings, it means that the vertex i in graph X has the same latent position as the vertex i in graph Y. It has similar function as scipy.linal.orthogonal_procrustes(). \n",
    "For more information, see [reference](https://graspy.neurodata.io/reference/align.html)"
   ]
  },
  {
   "cell_type": "code",
   "execution_count": 1,
   "metadata": {},
   "outputs": [],
   "source": [
    "import graspologic\n",
    "import numpy as np\n",
    "import seaborn as sns\n",
    "import matplotlib.pyplot as plt\n",
    "from scipy.stats import special_ortho_group\n",
    "\n",
    "%matplotlib inline"
   ]
  },
  {
   "cell_type": "markdown",
   "metadata": {},
   "source": [
    "Here is a simple example of aligning two datasets with different entries using OrthogonalProcrustes. First, introduce two datasets X,Y with same entries."
   ]
  },
  {
   "cell_type": "code",
   "execution_count": 8,
   "metadata": {},
   "outputs": [],
   "source": [
    "np.random.seed(2)\n",
    "X = np.random.rand(10,2)\n",
    "Y = np.random.rand(10,2)\n",
    "Z = special_ortho_group.rvs(2)\n",
    "Y = Y@Z"
   ]
  },
  {
   "cell_type": "markdown",
   "metadata": {},
   "source": [
    "Then use OrthogonalProcrustes to get the transformed dataset, X_prime_Orthogonal."
   ]
  },
  {
   "cell_type": "code",
   "execution_count": 9,
   "metadata": {},
   "outputs": [],
   "source": [
    "from graspologic.align import OrthogonalProcrustes\n",
    "X_prime_Orthogonal = OrthogonalProcrustes().fit_transform(X, Y)"
   ]
  },
  {
   "cell_type": "markdown",
   "metadata": {},
   "source": [
    "Name the rotated dataset to be X@Q_OrthogonalProcrustes. Plot X, Y, X@Q_OrthogonalProcrustes"
   ]
  },
  {
   "cell_type": "code",
   "execution_count": 10,
   "metadata": {},
   "outputs": [
    {
     "data": {
      "image/png": "[encoded data removed]",
      "text/plain": [
       "<Figure size 432x432 with 1 Axes>"
      ]
     },
     "metadata": {},
     "output_type": "display_data"
    }
   ],
   "source": [
    "plt.subplots(1, 1, figsize=(6, 6))\n",
    "plt.title(\"OrthogonalProcrustes, n_X =n_Y =10\")\n",
    "sns.color_palette(\"deep\")\n",
    "plt.scatter(X[:,0], X[:,1], label=\"X\", marker='x')\n",
    "plt.scatter(Y[:,0], Y[:,1], label=\"Y\")\n",
    "plt.scatter(X_prime_Orthogonal[:,0], X_prime_Orthogonal[:,1], label=\"X@Q_OrthogonalProcrustes\", marker='x')\n",
    "plt.tick_params(labelleft = False, labelbottom = False, bottom = False, left = False)\n",
    "plt.xlim(-1.50, 1.50)\n",
    "plt.ylim(-1.50, 1.50)\n",
    "plt.legend();"
   ]
  },
  {
   "cell_type": "markdown",
   "metadata": {},
   "source": [
    "Here, we introduce np.linlg.norm to calculate the Frobenius norm of (X_prime - Y), for quantificaion of the aligning ability in this example."
   ]
  },
  {
   "cell_type": "code",
   "execution_count": 149,
   "metadata": {},
   "outputs": [
    {
     "name": "stdout",
     "output_type": "stream",
     "text": [
      "1.1718904779030868\n"
     ]
    }
   ],
   "source": [
    "norm_Orthogonal = np.linalg.norm(X_prime_Orthogonal - Y)\n",
    "print(norm_Orthogonal)"
   ]
  },
  {
   "cell_type": "markdown",
   "metadata": {},
   "source": [
    "When the two datasets are with different entries, OrthogonalProcrustes will be not applicable. If you try that with OrthogonalProcrustes, there should be a ValueError. Please use SeedlessProcrustes for aligning two datasets with different shapes."
   ]
  }
 ],
 "metadata": {
  "kernelspec": {
   "display_name": "Python 3",
   "language": "python",
   "name": "python3"
  },
  "language_info": {
   "codemirror_mode": {
    "name": "ipython",
    "version": 3
   },
   "file_extension": ".py",
   "mimetype": "text/x-python",
   "name": "python",
   "nbconvert_exporter": "python",
   "pygments_lexer": "ipython3",
   "version": "3.7.9"
  }
 },
 "nbformat": 4,
 "nbformat_minor": 4
}
