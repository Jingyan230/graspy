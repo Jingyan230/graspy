{
 "cells": [
  {
   "cell_type": "markdown",
   "metadata": {},
   "source": [
    "# Aligning\n",
    "`Align` is a module for aligning two separated datasets together, in order to have better comparison of the data. The main idea is to get a matrix $Q$ from the input data sets $X$ and $Y$, Then use $Q$ for aligning $X$ to where $Y$ is. The differences among classes in `Align` is the principle of how we get the orthogonal matrix $Q$ from inputs. For more information about the algorithm of these classes, see [reference](https://graspy.neurodata.io/reference/align.html)."
   ]
  },
  {
   "cell_type": "markdown",
   "metadata": {},
   "source": [
    "This demo shows simple examples of how to use SignFlips, SeedlessProcrustes, and OrthogonalProcrustes in `Align`, and the differences in settings, in the situations where each of these classes is appropriate."
   ]
  },
  {
   "cell_type": "code",
   "execution_count": 1,
   "metadata": {},
   "outputs": [],
   "source": [
    "import graspologic\n",
    "import numpy as np\n",
    "import matplotlib.pyplot as plt\n",
    "from scipy.stats import special_ortho_group\n",
    "\n",
    "%matplotlib inline"
   ]
  },
  {
   "cell_type": "markdown",
   "metadata": {},
   "source": [
    "## Simple rotation example for each classes\n",
    "\n",
    "This part mainly explains how to use SignFlips, SeedlessProcrustes, and OrthogonalProcrustes. First, let's build two simple datasets, where $Y$ is a a copy of $X$, randomly rotated around the origin."
   ]
  },
  {
   "cell_type": "code",
   "execution_count": 2,
   "metadata": {
    "scrolled": true
   },
   "outputs": [],
   "source": [
    "np.random.seed(1)\n",
    "X = np.random.rand(10, 2)\n",
    "Z = special_ortho_group.rvs(2)\n",
    "Y = X @ Z"
   ]
  },
  {
   "cell_type": "markdown",
   "metadata": {},
   "source": [
    "Then use different classes in Aligning for aligning $X$ back with $Y$. Let's see the different performances between classes."
   ]
  },
  {
   "cell_type": "markdown",
   "metadata": {},
   "source": [
    "### SignFlips\n",
    "\n",
    "In essence, SignFlips is a function for fliping one dataset $X$, to another dimension. A diagonal orthogonal matrix $Q$ will be generated based on $X$ and $Y$. By $XQ$, All the enteries in $X$ are fliped along axises, to get it to the quadrant where $Y$ is. "
   ]
  },
  {
   "cell_type": "markdown",
   "metadata": {},
   "source": [
    "Here we introduce SignFlips to get the fliped dataset, $X_{SF}$."
   ]
  },
  {
   "cell_type": "code",
   "execution_count": 3,
   "metadata": {},
   "outputs": [],
   "source": [
    "from graspologic.align import SignFlips\n",
    "X_prime_SignFlips = SignFlips().fit_transform(X, Y)"
   ]
  },
  {
   "cell_type": "markdown",
   "metadata": {},
   "source": [
    "Then plot $X$, $Y$, $X_{SF}$"
   ]
  },
  {
   "cell_type": "code",
   "execution_count": 4,
   "metadata": {},
   "outputs": [
    {
     "data": {
      "image/png": "[encoded data removed]",
      "text/plain": [
       "<Figure size 432x432 with 1 Axes>"
      ]
     },
     "metadata": {
      "needs_background": "light"
     },
     "output_type": "display_data"
    }
   ],
   "source": [
    "fig, ax = plt.subplots(1, 1, figsize=(6, 6))\n",
    "ax.set_title(\"SignFlips, Simple rotation example\")\n",
    "ax.scatter(X[:,0], X[:,1], label=\"X\", marker='x')\n",
    "ax.scatter(Y[:,0], Y[:,1], label=\"Y\", s=100, alpha=0.5)\n",
    "ax.scatter(X_prime_SignFlips[:,0], X_prime_SignFlips[:,1], label=\"X_SF\", \n",
    "            marker='$F$')\n",
    "ax.set(xlim=(-1.50, 1.50), ylim=(-1.50, 1.50))\n",
    "ax.tick_params(bottom=False, left=False)\n",
    "ax.legend();\n",
    "ax.grid();"
   ]
  },
  {
   "cell_type": "markdown",
   "metadata": {},
   "source": [
    "Here we can see, SignFlips simply filped $X$ along x-axis and y-axis to get $X_{SF}$ to the third quadrant, the quadrant where $Y$ is. There is no further algning for this class. This class can also be used to bring the dataset to the first orthant, if you provide the identity matrix as the second dataset."
   ]
  },
  {
   "cell_type": "markdown",
   "metadata": {},
   "source": [
    "### OrthogonalProcrustes\n",
    "\n",
    "OrthogonalProcrustes is a wrapper of  *[scipy.linal.orthogonal_procrustes()](https://docs.scipy.org/doc/scipy/reference/generated/scipy.linalg.orthogonal_procrustes.html)*. This class is based on the solution of classical orthogonal procrustes problem. The classical orthogonal procrustes problem is a matrix approximation problem in linear algebra, as one is asked to find a orthogonal matrix $Q$, which could most closely maps the given matrix $X$ to another given matrix $Y$. Since the orthogonal procrustes problem strongly relies on the correspondence between the rows of the given matrices, this class can only be applied when the entery datasets $X$ and $Y$ have the equal shape ($n$, $d$). This means the vertex $i$ in graph $X$ has the same latent position as the vertex $i$ in graph $Y$ in graph embedings. "
   ]
  },
  {
   "cell_type": "markdown",
   "metadata": {},
   "source": [
    "Here we use OrthogonalProcrustes to get the transformed dataset, $X_{OP}$."
   ]
  },
  {
   "cell_type": "code",
   "execution_count": 5,
   "metadata": {},
   "outputs": [],
   "source": [
    "from graspologic.align import OrthogonalProcrustes\n",
    "X_prime_Orthogonal = OrthogonalProcrustes().fit_transform(X, Y)"
   ]
  },
  {
   "cell_type": "markdown",
   "metadata": {},
   "source": [
    "Plot $X$, $Y$, $X_{OP}$."
   ]
  },
  {
   "cell_type": "code",
   "execution_count": 6,
   "metadata": {
    "scrolled": true
   },
   "outputs": [
    {
     "data": {
      "image/png": "[encoded data removed]",
      "text/plain": [
       "<Figure size 432x432 with 1 Axes>"
      ]
     },
     "metadata": {
      "needs_background": "light"
     },
     "output_type": "display_data"
    }
   ],
   "source": [
    "fig, ax = plt.subplots(1, 1, figsize=(6, 6))\n",
    "ax.set_title(\"OrthogonalProcrustes, Simple rotation example\")\n",
    "ax.scatter(X[:,0], X[:,1], label=\"X\", marker='x')\n",
    "ax.scatter(Y[:,0], Y[:,1], label=\"Y\", s=100, alpha=0.5)\n",
    "ax.scatter(X_prime_Orthogonal[:,0], X_prime_Orthogonal[:,1], label=\"X_OP\", \n",
    "            marker='$O$')\n",
    "ax.set(xlim=(-1.50, 1.50), ylim=(-1.50, 1.50))\n",
    "ax.tick_params(bottom=False, left=False)\n",
    "ax.legend();\n",
    "ax.grid();"
   ]
  },
  {
   "cell_type": "markdown",
   "metadata": {},
   "source": [
    "As shown in the figure above, OrthogonalProcrustes have excellent performance when aligning $X$ to $Y$."
   ]
  },
  {
   "cell_type": "markdown",
   "metadata": {},
   "source": [
    "### SeedlessProcrustes\n",
    "\n",
    "SeedlessProcrustes try to get the matrix $Q$ via an iterative algorithm that alternates optimal transport and regular procrustes.\n",
    "It is not restricted by the shape diferences between datasets, i.e., it can be applied to two datasets with/without the same number of entries regardless whether there is correspondence between entries or not. "
   ]
  },
  {
   "cell_type": "markdown",
   "metadata": {},
   "source": [
    "Here we use it for aligning the two same datasets $X$, $Y$ showed above. Introduce SeedlessProcrustes to get the transformed dataset, $X_{SP}$."
   ]
  },
  {
   "cell_type": "code",
   "execution_count": 7,
   "metadata": {},
   "outputs": [],
   "source": [
    "from graspologic.align import SeedlessProcrustes\n",
    "X_prime_Seedless = SeedlessProcrustes().fit_transform(X, Y)"
   ]
  },
  {
   "cell_type": "markdown",
   "metadata": {},
   "source": [
    "Plot $X$, $Y$, $X_{SP}$."
   ]
  },
  {
   "cell_type": "code",
   "execution_count": 8,
   "metadata": {},
   "outputs": [
    {
     "data": {
      "image/png": "[encoded data removed]",
      "text/plain": [
       "<Figure size 432x432 with 1 Axes>"
      ]
     },
     "metadata": {
      "needs_background": "light"
     },
     "output_type": "display_data"
    }
   ],
   "source": [
    "fig, ax = plt.subplots(1, 1, figsize=(6, 6))\n",
    "ax.set_title(\"SeedlessProcrustes, Simple rotation example\")\n",
    "ax.scatter(X[:,0], X[:,1], label=\"X\", marker='x')\n",
    "ax.scatter(Y[:,0], Y[:,1], label=\"Y\", s=100, alpha=0.5)\n",
    "ax.scatter(X_prime_Seedless[:,0], X_prime_Seedless[:,1], label=\"X_SP\", \n",
    "            marker='$S$')\n",
    "ax.set(xlim=(-1.50, 1.50), ylim=(-1.50, 1.50))\n",
    "ax.tick_params(bottom=False, left=False)\n",
    "ax.legend();\n",
    "ax.grid();"
   ]
  },
  {
   "cell_type": "markdown",
   "metadata": {},
   "source": [
    "This figure represent that SeedlessProcrustes can also align $X$ well with $Y$."
   ]
  },
  {
   "cell_type": "markdown",
   "metadata": {},
   "source": [
    "### Comparison between SignFlips, OrthogonalProcrustes, SeedlessProcrustes"
   ]
  },
  {
   "cell_type": "markdown",
   "metadata": {},
   "source": [
    "Here we plot the outcomes of three classes in simple rotation example together, to have a clearer comparison of them."
   ]
  },
  {
   "cell_type": "code",
   "execution_count": 9,
   "metadata": {},
   "outputs": [
    {
     "data": {
      "image/png": "[encoded data removed]",
      "text/plain": [
       "<Figure size 432x432 with 1 Axes>"
      ]
     },
     "metadata": {
      "needs_background": "light"
     },
     "output_type": "display_data"
    }
   ],
   "source": [
    "fig, ax = plt.subplots(1, 1, figsize=(6, 6))\n",
    "ax.set_title(\"Aligning, Simple rotation example\")\n",
    "ax.scatter(X[:,0], X[:,1], label=\"X\", marker='x')\n",
    "ax.scatter(Y[:,0], Y[:,1], label=\"Y\", s=100, alpha=0.5)\n",
    "ax.scatter(X_prime_SignFlips[:,0], X_prime_SignFlips[:,1], \n",
    "            label=\"X_SF\", marker='$F$')\n",
    "ax.scatter(X_prime_Orthogonal[:,0], X_prime_Orthogonal[:,1], \n",
    "            label=\"X_OP\", marker='$o$')\n",
    "ax.scatter(X_prime_Seedless[:,0], X_prime_Seedless[:,1], \n",
    "            label=\"X_SP\", marker='$S$')\n",
    "ax.set(xlim=(-1.50, 1.50), ylim=(-1.50, 1.50))\n",
    "ax.tick_params(bottom=False, left=False)\n",
    "ax.legend();\n",
    "ax.grid();"
   ]
  },
  {
   "cell_type": "markdown",
   "metadata": {},
   "source": [
    "Introduce *[np.linlg.norm()](https://numpy.org/doc/stable/reference/generated/numpy.linalg.norm.html)* to calculate the Frobenius norm of ($X_{prime}$ - $Y$), for quantificaion of the aligning ability in this example."
   ]
  },
  {
   "cell_type": "code",
   "execution_count": 10,
   "metadata": {},
   "outputs": [
    {
     "name": "stdout",
     "output_type": "stream",
     "text": [
      "norm_SignFlips= 1.4779981074320632\n",
      "norm_Orthogonal= 3.437379846455101e-16\n",
      "norm_Seedless= 0.02152739003460826\n"
     ]
    }
   ],
   "source": [
    "norm_SignFlips = np.linalg.norm(X_prime_SignFlips - Y)\n",
    "norm_Orthogonal = np.linalg.norm(X_prime_Orthogonal - Y)\n",
    "norm_Seedless = np.linalg.norm(X_prime_Seedless - Y)\n",
    "print('norm_SignFlips=', norm_SignFlips)\n",
    "print('norm_Orthogonal=', norm_Orthogonal)\n",
    "print('norm_Seedless=', norm_Seedless)"
   ]
  },
  {
   "cell_type": "markdown",
   "metadata": {},
   "source": [
    "SignFlips only do the simple flips of datasets along axises. Both OrthogonalProcrustes and SeedlessProcrustes align $X$ very well with the exact palce and distribution of $Y$. "
   ]
  },
  {
   "cell_type": "markdown",
   "metadata": {},
   "source": [
    "## Special example for SignFlips and SeedlessProcrustes\n",
    "\n",
    "This part includes two special example for SignFlips and SeedlessProcrustes respectively, for better presenting their functions."
   ]
  },
  {
   "cell_type": "markdown",
   "metadata": {},
   "source": [
    "### Simple fliping example for SignFlips "
   ]
  },
  {
   "cell_type": "markdown",
   "metadata": {},
   "source": [
    "For better understanding of how exactly SignFlips works, here is an example of using SignFlips in simple-fliping situation. In this example, $Y$ is a set rotated by 180 degree from $X$. "
   ]
  },
  {
   "cell_type": "code",
   "execution_count": 11,
   "metadata": {},
   "outputs": [],
   "source": [
    "np.random.seed(1)\n",
    "X = np.random.rand(10, 2)\n",
    "Y = -X"
   ]
  },
  {
   "cell_type": "markdown",
   "metadata": {},
   "source": [
    "Use SignFlips to get the fliped dataset, $X_{SF}$, and then plot out."
   ]
  },
  {
   "cell_type": "code",
   "execution_count": 12,
   "metadata": {},
   "outputs": [],
   "source": [
    "from graspologic.align import SignFlips\n",
    "X_prime_SignFlips = SignFlips().fit_transform(X, Y)"
   ]
  },
  {
   "cell_type": "code",
   "execution_count": 13,
   "metadata": {},
   "outputs": [
    {
     "data": {
      "image/png": "[encoded data removed]",
      "text/plain": [
       "<Figure size 432x432 with 1 Axes>"
      ]
     },
     "metadata": {
      "needs_background": "light"
     },
     "output_type": "display_data"
    }
   ],
   "source": [
    "fig, ax = plt.subplots(1, 1, figsize=(6, 6))\n",
    "ax.set_title(\"SignFlips, Simple fliping example\")\n",
    "ax.scatter(X[:,0], X[:,1], label=\"X\", marker='x')\n",
    "ax.scatter(Y[:,0], Y[:,1], label=\"Y\", s=100, alpha=0.5)\n",
    "ax.scatter(X_prime_SignFlips[:,0], X_prime_SignFlips[:,1], label=\"X_SF\", \n",
    "            marker='$F$')\n",
    "ax.set(xlim=(-1.50, 1.50), ylim=(-1.50, 1.50))\n",
    "ax.tick_params(bottom=False, left=False)\n",
    "ax.legend();\n",
    "ax.grid();"
   ]
  },
  {
   "cell_type": "markdown",
   "metadata": {},
   "source": [
    "Introduce np.linlg.norm to calculate the Frobenius norm of ($X_{prime}$ - $Y$), for quantificaion of the aligning ability in this example."
   ]
  },
  {
   "cell_type": "code",
   "execution_count": 14,
   "metadata": {},
   "outputs": [
    {
     "name": "stdout",
     "output_type": "stream",
     "text": [
      "norm_SignFlips= 0.0\n"
     ]
    }
   ],
   "source": [
    "norm_SignFlips = np.linalg.norm(X_prime_SignFlips - Y)\n",
    "print('norm_SignFlips=', norm_SignFlips)"
   ]
  },
  {
   "cell_type": "markdown",
   "metadata": {},
   "source": [
    "Since SignFlips only do the simple flips of datasets along axises, and that's how $Y$ comes from in this example, norm_SignFlips is 0, i.e. $Y$ is perfectly overlaped by $X_{SF}$. "
   ]
  },
  {
   "cell_type": "markdown",
   "metadata": {},
   "source": [
    "### Unmatched input example for Seedlessprocrustes"
   ]
  },
  {
   "cell_type": "markdown",
   "metadata": {},
   "source": [
    "As mentioned above, SeedlessProcrustes can be applied to two datasets with different number of entries. Here an example for using it on two unmatched input datasets."
   ]
  },
  {
   "cell_type": "markdown",
   "metadata": {},
   "source": [
    "First, create two sample from multivariate normal distribution (MVN)."
   ]
  },
  {
   "cell_type": "code",
   "execution_count": 15,
   "metadata": {},
   "outputs": [],
   "source": [
    "np.random.seed(1)\n",
    "I = np.identity(2)\n",
    "Z = special_ortho_group.rvs(2)\n",
    "X = np.random.multivariate_normal([0.5, 0.5], 0.05 * I, 20)\n",
    "Y = np.random.multivariate_normal([0.5, 0.5], 0.05 * I, 10) @ Z"
   ]
  },
  {
   "cell_type": "markdown",
   "metadata": {},
   "source": [
    "Introduce SeedlessProcrustes to get the transformed dataset, $X_{Seedless}$, and then plot out."
   ]
  },
  {
   "cell_type": "code",
   "execution_count": 16,
   "metadata": {},
   "outputs": [],
   "source": [
    "from graspologic.align import SeedlessProcrustes\n",
    "X_prime_Seedless = SeedlessProcrustes().fit_transform(X, Y)"
   ]
  },
  {
   "cell_type": "code",
   "execution_count": 17,
   "metadata": {},
   "outputs": [
    {
     "data": {
      "image/png": "[encoded data removed]",
      "text/plain": [
       "<Figure size 432x432 with 1 Axes>"
      ]
     },
     "metadata": {
      "needs_background": "light"
     },
     "output_type": "display_data"
    }
   ],
   "source": [
    "fig, ax = plt.subplots(1, 1, figsize=(6, 6))\n",
    "ax.set_title(\"SeedlessProcrustes, Unmatched input example\")\n",
    "ax.scatter(X[:,0], X[:,1], label=\"X\", marker='x')\n",
    "ax.scatter(Y[:,0], Y[:,1], label=\"Y\", s=100, alpha=0.5)\n",
    "ax.scatter(X_prime_Seedless[:,0], X_prime_Seedless[:,1], label=\"X_SP\", \n",
    "           marker='x')\n",
    "ax.set(xlim=(-1.50, 1.50), ylim=(-1.50, 1.50))\n",
    "ax.tick_params(bottom=False, left=False)\n",
    "ax.legend();\n",
    "ax.grid();"
   ]
  }
 ],
 "metadata": {
  "kernelspec": {
   "display_name": "Python 3",
   "language": "python",
   "name": "python3"
  },
  "language_info": {
   "codemirror_mode": {
    "name": "ipython",
    "version": 3
   },
   "file_extension": ".py",
   "mimetype": "text/x-python",
   "name": "python",
   "nbconvert_exporter": "python",
   "pygments_lexer": "ipython3",
   "version": "3.7.9"
  }
 },
 "nbformat": 4,
 "nbformat_minor": 4
}
