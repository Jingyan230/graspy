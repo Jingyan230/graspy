{
 "cells": [
  {
   "cell_type": "markdown",
   "metadata": {},
   "source": [
    "# Aligning\n",
    "``align`` is a module that can be used to align two different datasets. In particular, all three currently existing classes, namely ``SignFlips``, regular ``OrthogonalProcrustes``, and ``SeedlessProcrustes`` are aimed at correcting an orthogonal transformation of the data, the exact form of which is unknwon. The motivation for this are orthogonal non-identifiabilities, which are common when dealing with various embedding methods, whether in statistical graphs or other domains."
   ]
  },
  {
   "cell_type": "markdown",
   "metadata": {},
   "source": [
    "Recall that an orthogonal matrix is any matrix $Q$ such that $Q^T Q = Q Q^T = I$. For all alignment methods, the main idea is to infer an orthogonal matrix $Q$ from the input data sets $X$ and $Y$, and subsequently use $Q$ in order to align $X$ to $Y$, by transforming $X$ as $\\hat{X} = X Q$. The major differences among classes in ``align`` come from the settings in which which they are applicable, as well as additional assumptions made on the matrix $Q$."
   ]
  },
  {
   "cell_type": "code",
   "execution_count": null,
   "metadata": {},
   "outputs": [],
   "source": [
    "import numpy as np\n",
    "import matplotlib.pyplot as plt\n",
    "from graspologic.plot import heatmap\n",
    "from scipy.stats import special_ortho_group, ortho_group\n",
    "\n",
    "%matplotlib inline"
   ]
  },
  {
   "cell_type": "markdown",
   "metadata": {},
   "source": [
    "## Simple rotation example for each classes\n",
    "\n",
    "First, let's build two simple datasets $X$ and $Y$, with all entries of $X$ coming from the $Uniform(0, 1)$ distribution, and $Y$ is a $Y$ copy of $X$, radomly rotated around the origin."
   ]
  },
  {
   "cell_type": "code",
   "execution_count": null,
   "metadata": {
    "scrolled": true
   },
   "outputs": [],
   "source": [
    "np.random.seed(314)\n",
    "X = np.random.uniform(0, 1, (15, 2))\n",
    "Z = special_ortho_group.rvs(2)\n",
    "Y = X @ Z"
   ]
  },
  {
   "cell_type": "code",
   "execution_count": null,
   "metadata": {},
   "outputs": [],
   "source": [
    "fig, ax = plt.subplots(1, 1, figsize=(6, 6))\n",
    "ax.set_title(\"Simple rotation example\")\n",
    "ax.scatter(X[:,0], X[:,1], label=\"X\", marker='x')\n",
    "ax.scatter(Y[:,0], Y[:,1], label=\"Y\", s=100, alpha=0.5)\n",
    "ax.set(xlim=(-1.3, 1.3), ylim=(-1.3, 1.3))\n",
    "ax.set_xticks([0])\n",
    "ax.set_yticks([0])\n",
    "ax.legend()\n",
    "ax.grid();"
   ]
  },
  {
   "cell_type": "markdown",
   "metadata": {},
   "source": [
    "### SignFlips\n",
    "\n",
    "``SignFlips`` assumes that $Q$ is not only orthogonal, but also diagonal, which constraints to matrices with $\\pm 1$ along the diagonal and $0$ everywhere else. In essence, it flips the dataset along some axes such that the two datasets end up in the orthant (generalized quadrant). Which quadrant the dataset is \"located\" in is defined by some criterion, which is the dimension-wise medians by default. If the dataset needs to flip along some dimension, the corresponding entry in $Q$ will be $-1$, and $1$ otherwise."
   ]
  },
  {
   "cell_type": "code",
   "execution_count": null,
   "metadata": {},
   "outputs": [],
   "source": [
    "from graspologic.align import SignFlips\n",
    "aligner_SF = SignFlips() \n",
    "X_prime_SF = aligner_SF.fit_transform(X, Y)"
   ]
  },
  {
   "cell_type": "markdown",
   "metadata": {},
   "source": [
    "Since $X$ is entirely in the first quadrant, its dimension-wise medians in both dimensions are greater than $0$. Meanwhile $Y$ is predominantly in the third quadrant, so its dimension-wise medians are all smaller than $0$. Thus $X$ needs to be flipped both along the x-axis and y-axis in order for two datasets to arive to the same dimensions. So, the $Q_{SF}$ that the algorithm finds is"
   ]
  },
  {
   "cell_type": "code",
   "execution_count": null,
   "metadata": {},
   "outputs": [],
   "source": [
    "heatmap(aligner_SF.Q_,\n",
    "        figsize= (5,5),\n",
    "        vmin=-1, vmax=1)\n",
    "aligner_SF.Q_"
   ]
  },
  {
   "cell_type": "code",
   "execution_count": null,
   "metadata": {},
   "outputs": [],
   "source": [
    "fig, ax = plt.subplots(1, 1, figsize=(6, 6))\n",
    "ax.set_title(\"Simple rotation example, Sign Flips\")\n",
    "ax.scatter(X[:,0], X[:,1],\n",
    "           label=\"X\", marker='x')\n",
    "ax.scatter(Y[:,0], Y[:,1],\n",
    "           label=\"Y\", s=100, alpha=0.5)\n",
    "ax.scatter(X_prime_SF[:,0],\n",
    "           X_prime_SF[:,1],\n",
    "           label=\"X_SF\", \n",
    "           marker='$F$')\n",
    "ax.set(xlim=(-1.30, 1.30), ylim=(-1.30, 1.30))\n",
    "ax.set_xticks([0])\n",
    "ax.set_yticks([0])\n",
    "ax.legend()\n",
    "ax.grid();"
   ]
  },
  {
   "cell_type": "markdown",
   "metadata": {},
   "source": [
    "``SignFlips`` correctly  brings $X$ to the third dimension, yet the alignment is imperfect, as it is a heuristic-based method. Note that it does not assume that there is any sort of matching between the entries of $X$ and $Y$. Indeed, the two datasets need not even be of the same size."
   ]
  },
  {
   "cell_type": "markdown",
   "metadata": {},
   "source": [
    "This class can also be used to bring the dataset to the first orthant, if one provides the identity matrix as the second dataset."
   ]
  },
  {
   "cell_type": "markdown",
   "metadata": {},
   "source": [
    "### OrthogonalProcrustes\n",
    "\n",
    "``OrthogonalProcrustes`` obtains $Q_{OP}$ by solving the classic orthogonal procrustes problem. "
   ]
  },
  {
   "cell_type": "markdown",
   "metadata": {},
   "source": [
    "[Orthogonal Procrustes problem](https://en.wikipedia.org/wiki/Orthogonal_Procrustes_problem) is a matrix approximation problem in linear algebra, as one is asked to find a orthogonal matrix $Q$, which could most closely maps the given matrix $X$ to another given matrix $Y$. Formally it seeks to finds a matrix $Q_{OP}$ such that $|| X Q_{OP} - Y ||_F$ is minimized. \\\\"
   ]
  },
  {
   "cell_type": "markdown",
   "metadata": {},
   "source": [
    "Since, this formulation strongly relies on the correspondence between the rows of the given matrices, this class can only be applied when the entery datasets $X$ and $Y$ have the equal shape ($n$, $d$), and the $i$th entry in $X$ is assumed to be the same value as vertex $i$th entry of $Y$, up to some noise. In graph setting, this means that the latent positions of the two graphs are equivalent."
   ]
  },
  {
   "cell_type": "markdown",
   "metadata": {},
   "source": [
    "Orthogonal Procrustes has a widely known closed form solution. Indeed, this class simply wraps  *[scipy.linal.orthogonal_procrustes()](https://docs.scipy.org/doc/scipy/reference/generated/scipy.linalg.orthogonal_procrustes.html)*. "
   ]
  },
  {
   "cell_type": "code",
   "execution_count": null,
   "metadata": {},
   "outputs": [],
   "source": [
    "from graspologic.align import OrthogonalProcrustes\n",
    "aligner_OP = OrthogonalProcrustes() \n",
    "X_prime_OP = aligner_OP.fit_transform(X, Y)"
   ]
  },
  {
   "cell_type": "markdown",
   "metadata": {},
   "source": [
    "Note that that $Q_{OP}$ is a generic orthogonal matrix, not a diagonal one."
   ]
  },
  {
   "cell_type": "code",
   "execution_count": null,
   "metadata": {},
   "outputs": [],
   "source": [
    "heatmap(aligner_OP.Q_,\n",
    "        figsize= (5,5),\n",
    "        vmin=-1, vmax=1)\n",
    "aligner_OP.Q_"
   ]
  },
  {
   "cell_type": "code",
   "execution_count": null,
   "metadata": {
    "scrolled": true
   },
   "outputs": [],
   "source": [
    "fig, ax = plt.subplots(1, 1, figsize=(6, 6))\n",
    "ax.set_title(\"Simple rotation example, OrthogonalProcrustes\")\n",
    "ax.scatter(X[:,0], X[:,1], label=\"X\", marker='x')\n",
    "ax.scatter(Y[:,0], Y[:,1], label=\"Y\", s=100, alpha=0.5)\n",
    "ax.scatter(X_prime_OP[:,0],\n",
    "           X_prime_OP[:,1],\n",
    "           label=\"X_OP\", \n",
    "           marker='$O$')\n",
    "ax.set(xlim=(-1.30, 1.30), ylim=(-1.30, 1.30))\n",
    "ax.set_xticks([0])\n",
    "ax.set_yticks([0])\n",
    "ax.legend()\n",
    "ax.grid();"
   ]
  },
  {
   "cell_type": "markdown",
   "metadata": {},
   "source": [
    "As expected, ``OrthogonalProcrustes`` obtains an exact solution when $X$ is a rotated copy of $Y$."
   ]
  },
  {
   "cell_type": "markdown",
   "metadata": {},
   "source": [
    "### SeedlessProcrustes\n",
    "\n",
    "Seedless Procrustes is an algorithm that extends regular Procrustes to a case when there is no known correspondence between the entries. In fact, it can be used even when the number of entries between the two datasest is different."
   ]
  },
  {
   "cell_type": "markdown",
   "metadata": {},
   "source": [
    "Formally, if $X$ has $n$ entries, and $Y$ has $m$ entries, it tries to solve for an orthogonal matrix $Q_{SP}$, and an $n \\times m$ matrix $W$, with a special condition that rows sum to $1/m$, and columns sum to $1/n$, such that the quantity $|| X Q_{SP} - W Y ||_F$ is minimized."
   ]
  },
  {
   "cell_type": "markdown",
   "metadata": {},
   "source": [
    "Unlike the regular procrustes, this does not have a known closed form solution. ``SeedlessProcrustes`` tries to solve this optimization problem via to an iterative algorithm that alternates optimal transport and regular procrustes."
   ]
  },
  {
   "cell_type": "code",
   "execution_count": null,
   "metadata": {},
   "outputs": [],
   "source": [
    "from graspologic.align import SeedlessProcrustes\n",
    "aligner_SP = SeedlessProcrustes() \n",
    "X_prime_SP = aligner_SP.fit_transform(X, Y)"
   ]
  },
  {
   "cell_type": "code",
   "execution_count": null,
   "metadata": {},
   "outputs": [],
   "source": [
    "heatmap(aligner_SP.Q_,\n",
    "        figsize= (5,5),\n",
    "        vmin=-1, vmax=1)\n",
    "aligner_SP.Q_"
   ]
  },
  {
   "cell_type": "code",
   "execution_count": null,
   "metadata": {},
   "outputs": [],
   "source": [
    "fig, ax = plt.subplots(1, 1, figsize=(6, 6))\n",
    "ax.set_title(\"SeedlessProcrustes, Simple rotation example\")\n",
    "ax.scatter(X[:,0], X[:,1], label=\"X\", marker='x')\n",
    "ax.scatter(Y[:,0], Y[:,1], label=\"Y\", s=100, alpha=0.5)\n",
    "ax.scatter(X_prime_SP[:,0],\n",
    "           X_prime_SP[:,1],\n",
    "           label=\"X_SP\", \n",
    "           marker='$S$')\n",
    "ax.set(xlim=(-1.30, 1.30), ylim=(-1.30, 1.30))\n",
    "ax.set_xticks([0])\n",
    "ax.set_yticks([0])\n",
    "ax.legend()\n",
    "ax.grid();"
   ]
  },
  {
   "cell_type": "markdown",
   "metadata": {},
   "source": [
    "### Comparison between SignFlips, OrthogonalProcrustes, SeedlessProcrustes"
   ]
  },
  {
   "cell_type": "markdown",
   "metadata": {},
   "source": [
    "The outcomes of three classes in simple rotation example together are plotted on the same figure in order to allow for a simpler comparison."
   ]
  },
  {
   "cell_type": "code",
   "execution_count": null,
   "metadata": {},
   "outputs": [],
   "source": [
    "fig, ax = plt.subplots(1, 1, figsize=(6, 6))\n",
    "ax.set_title(\"Aligning, Simple rotation example\")\n",
    "ax.scatter(X[:,0], X[:,1], label=\"X\", marker='x')\n",
    "ax.scatter(Y[:,0], Y[:,1], label=\"Y\", s=100, alpha=0.5)\n",
    "ax.scatter(X_prime_SF[:,0],\n",
    "           X_prime_SF[:,1], \n",
    "           label=\"X_SF\",\n",
    "           marker='$F$')\n",
    "ax.scatter(X_prime_OP[:,0],\n",
    "           X_prime_OP[:,1], \n",
    "           label=\"X_OP\", marker='$o$')\n",
    "ax.scatter(X_prime_SP[:,0],\n",
    "           X_prime_SP[:,1], \n",
    "           label=\"X_SP\", marker='$S$')\n",
    "ax.set(xlim=(-1.50, 1.50), ylim=(-1.50, 1.50))\n",
    "ax.set_xticks([0])\n",
    "ax.set_yticks([0])\n",
    "ax.legend()\n",
    "ax.grid();"
   ]
  },
  {
   "cell_type": "markdown",
   "metadata": {},
   "source": [
    "In this simple example, OrthogonalProcrustes and SeedlessProcrustes align $X$ to $Y$ extremply well in terms of the Frobenius norm, whereas Sign Flips can only do so well as to bring them to the same quadrant. In fact, when a dataset is a rotated copy of another - Orthogonal Procrustes aligns it up to a numerical epsilon precision."
   ]
  },
  {
   "cell_type": "code",
   "execution_count": null,
   "metadata": {},
   "outputs": [],
   "source": [
    "norm_SignFlips = np.linalg.norm(X_prime_SF - Y)\n",
    "norm_Orthogonal = np.linalg.norm(X_prime_OP - Y)\n",
    "norm_Seedless = np.linalg.norm(X_prime_SP - Y)\n",
    "print('Simple example')\n",
    "print('Difference in Frobenious norm after Sign Flips ', norm_SignFlips)\n",
    "print('Difference in Frobenious norm after Orthogonal Procrustes ', norm_Orthogonal)\n",
    "print('Difference in Frobenious norm after Seedless Procrustes ', norm_Seedless)"
   ]
  },
  {
   "cell_type": "markdown",
   "metadata": {},
   "source": [
    "### Shuffled Example"
   ]
  },
  {
   "cell_type": "markdown",
   "metadata": {},
   "source": [
    "Recall that unlike the other two methods, Orthogonal Procrustes heavily relies on a fact that the vertices of the two datasets are matched. Its performance will deteriarete even on this simple example if the vertices are shuffled, as shown in the following figure."
   ]
  },
  {
   "cell_type": "code",
   "execution_count": null,
   "metadata": {},
   "outputs": [],
   "source": [
    "from sklearn.utils import shuffle"
   ]
  },
  {
   "cell_type": "code",
   "execution_count": null,
   "metadata": {},
   "outputs": [],
   "source": [
    "X_shuffled = shuffle(X)"
   ]
  },
  {
   "cell_type": "code",
   "execution_count": null,
   "metadata": {},
   "outputs": [],
   "source": [
    "X_prime_SF_shuffled = SignFlips().fit_transform(X_shuffled, Y)\n",
    "X_prime_OP_shuffled = OrthogonalProcrustes().fit_transform(X_shuffled, Y)\n",
    "X_prime_SP_shuffled = SeedlessProcrustes().fit_transform(X_shuffled, Y)"
   ]
  },
  {
   "cell_type": "code",
   "execution_count": null,
   "metadata": {},
   "outputs": [],
   "source": [
    "fig, ax = plt.subplots(1, 1, figsize=(6, 6))\n",
    "ax.set_title(\"Aligning, Shuffled example\")\n",
    "ax.scatter(X[:,0], X[:,1], label=\"X\", marker='x')\n",
    "ax.scatter(Y[:,0], Y[:,1], label=\"Y\", s=100, alpha=0.5)\n",
    "ax.scatter(X_prime_SF_shuffled[:,0],\n",
    "           X_prime_SF_shuffled[:,1], \n",
    "            label=\"X_SF\", marker='$F$')\n",
    "ax.scatter(X_prime_OP_shuffled[:,0],\n",
    "           X_prime_OP_shuffled[:,1], \n",
    "            label=\"X_OP\", marker='$o$')\n",
    "ax.scatter(X_prime_SP_shuffled[:,0],\n",
    "           X_prime_SP_shuffled[:,1], \n",
    "            label=\"X_SP\", marker='$S$')\n",
    "ax.set(xlim=(-1.50, 1.50), ylim=(-1.50, 1.50))\n",
    "ax.set_xticks([0])\n",
    "ax.set_yticks([0])\n",
    "ax.legend()\n",
    "ax.grid();"
   ]
  },
  {
   "cell_type": "markdown",
   "metadata": {},
   "source": [
    "### Unmatched input example for Seedlessprocrustes"
   ]
  },
  {
   "cell_type": "markdown",
   "metadata": {},
   "source": [
    "As mentioned above, Seedless Procrustes can be applied to two datasets with different number of entries. Consider the following example: $X$ is the same as previous, but the new $Y$ is a *different, larger* dataset, generated from the *same distribution*, and then subsequently rotated."
   ]
  },
  {
   "cell_type": "code",
   "execution_count": null,
   "metadata": {},
   "outputs": [],
   "source": [
    "Y = np.random.uniform(0, 1, (20, 2)) @ Z"
   ]
  },
  {
   "cell_type": "code",
   "execution_count": null,
   "metadata": {},
   "outputs": [],
   "source": [
    "X_prime_SP_unmatched = SeedlessProcrustes().fit_transform(X, Y)"
   ]
  },
  {
   "cell_type": "code",
   "execution_count": null,
   "metadata": {},
   "outputs": [],
   "source": [
    "fig, ax = plt.subplots(1, 1, figsize=(6, 6))\n",
    "ax.set_title(\"Unmatched input example, Seedless Procrustes\")\n",
    "ax.scatter(X[:,0], X[:,1], label=\"X\", marker='x')\n",
    "ax.scatter(Y[:,0], Y[:,1], label=\"Y\", s=100, alpha=0.5)\n",
    "ax.scatter(X_prime_SP_unmatched[:,0],\n",
    "           X_prime_SP_unmatched[:,1],\n",
    "           label=\"X_SP\", \n",
    "           marker='$S$')\n",
    "ax.set(xlim=(-1.50, 1.50), ylim=(-1.50, 1.50))\n",
    "ax.set_xticks([0])\n",
    "ax.set_yticks([0])\n",
    "ax.legend()\n",
    "ax.grid();"
   ]
  },
  {
   "cell_type": "code",
   "execution_count": null,
   "metadata": {},
   "outputs": [],
   "source": [
    "print(\"Mean of the dataset X:      \", np.mean(X, axis=0))\n",
    "print(\"Mean of the dataset Y:      \", np.mean(Y, axis=0))\n",
    "print(\"Mean of the dataset X_{SP}: \", np.mean(X_prime_SP_unmatched, axis=0))"
   ]
  },
  {
   "cell_type": "markdown",
   "metadata": {},
   "source": [
    "Seedless Procrustes is able to align the distributions. Note that the regular procrustes is simply inapplicable in this context."
   ]
  },
  {
   "cell_type": "code",
   "execution_count": null,
   "metadata": {},
   "outputs": [],
   "source": []
  }
 ],
 "metadata": {
  "kernelspec": {
   "display_name": "Python 3",
   "language": "python",
   "name": "python3"
  },
  "language_info": {
   "codemirror_mode": {
    "name": "ipython",
    "version": 3
   },
   "file_extension": ".py",
   "mimetype": "text/x-python",
   "name": "python",
   "nbconvert_exporter": "python",
   "pygments_lexer": "ipython3",
   "version": "3.7.3"
  }
 },
 "nbformat": 4,
 "nbformat_minor": 4
}
