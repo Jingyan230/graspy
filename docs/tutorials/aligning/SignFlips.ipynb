{
 "cells": [
  {
   "cell_type": "markdown",
   "metadata": {},
   "source": [
    "# SignFlips\n",
    "\n",
    "SignFlips is a function for flip one dataset X, to another dimension. It will only filp X along axis, to get it to the quadrant where Y is. \n",
    "For more information, see [reference](https://graspy.neurodata.io/reference/align.html)"
   ]
  },
  {
   "cell_type": "code",
   "execution_count": 9,
   "metadata": {},
   "outputs": [],
   "source": [
    "import graspologic\n",
    "import numpy as np\n",
    "import seaborn as sns\n",
    "import matplotlib.pyplot as plt\n",
    "from scipy.stats import special_ortho_group\n",
    "\n",
    "%matplotlib inline"
   ]
  },
  {
   "cell_type": "markdown",
   "metadata": {},
   "source": [
    "Here is a simple instruction of using SignFlips. First, let's build two datasets X and Y, which are placed away from each other."
   ]
  },
  {
   "cell_type": "code",
   "execution_count": 10,
   "metadata": {
    "scrolled": true
   },
   "outputs": [],
   "source": [
    "np.random.seed(1)\n",
    "X = np.random.rand(10,2)\n",
    "Y = np.random.rand(10,2)\n",
    "Z = special_ortho_group.rvs(2)\n",
    "Y = Y@Z"
   ]
  },
  {
   "cell_type": "markdown",
   "metadata": {},
   "source": [
    "Then use SignFlips to get the fliped dataset, X_prime_SignFlips."
   ]
  },
  {
   "cell_type": "code",
   "execution_count": 11,
   "metadata": {},
   "outputs": [],
   "source": [
    "from graspologic.align import SignFlips\n",
    "X_prime_SignFlips = SignFlips().fit_transform(X, Y)"
   ]
  },
  {
   "cell_type": "markdown",
   "metadata": {},
   "source": [
    "Name the fliped dataset to be X@Q_SignFlips. Plot X, Y, X@Q_SignFlips"
   ]
  },
  {
   "cell_type": "code",
   "execution_count": 12,
   "metadata": {},
   "outputs": [
    {
     "data": {
      "image/png": "[encoded data removed]",
      "text/plain": [
       "<Figure size 432x432 with 1 Axes>"
      ]
     },
     "metadata": {},
     "output_type": "display_data"
    }
   ],
   "source": [
    "plt.subplots(1, 1, figsize=(6, 6))\n",
    "plt.title(\"SignFlips\")\n",
    "sns.color_palette(\"deep\")\n",
    "plt.scatter(X[:,0], X[:,1], label=\"X\", marker='x')\n",
    "plt.scatter(Y[:,0], Y[:,1], label=\"Y\")\n",
    "plt.scatter(X_prime_SignFlips[:,0], X_prime_SignFlips[:,1], label=\"X@Q_SignFlips\", marker='x')\n",
    "plt.tick_params(labelleft = False, labelbottom = False, bottom = False, left = False)\n",
    "plt.xlim(-1.50, 1.50)\n",
    "plt.ylim(-1.50, 1.50)\n",
    "plt.legend();"
   ]
  },
  {
   "cell_type": "markdown",
   "metadata": {},
   "source": [
    "SignFlips can be used for some simple reflections around coordinate axis. It can bring X closer to Y, but not a perfect match of distributions in normal cases. To get better match for the distribution of two datasets, you should use OrthogonalProcrustes or SeedlessProcrustes."
   ]
  }
 ],
 "metadata": {
  "kernelspec": {
   "display_name": "Python 3",
   "language": "python",
   "name": "python3"
  },
  "language_info": {
   "codemirror_mode": {
    "name": "ipython",
    "version": 3
   },
   "file_extension": ".py",
   "mimetype": "text/x-python",
   "name": "python",
   "nbconvert_exporter": "python",
   "pygments_lexer": "ipython3",
   "version": "3.7.9"
  }
 },
 "nbformat": 4,
 "nbformat_minor": 4
}
