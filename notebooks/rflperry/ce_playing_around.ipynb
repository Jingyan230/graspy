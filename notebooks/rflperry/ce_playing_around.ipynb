{
 "cells": [
  {
   "cell_type": "code",
   "execution_count": 341,
   "metadata": {},
   "outputs": [],
   "source": [
    "import numpy as np\n",
    "import pandas as pd\n",
    "from graspy.utils import * \n",
    "from graspy.plot import heatmap, pairplot, gridplot\n",
    "from graspy.embed import *\n",
    "import seaborn as sns\n",
    "import matplotlib.pyplot as plt\n",
    "import re\n",
    "import scipy\n",
    "import networkx as nx\n",
    "from pathlib import Path\n",
    "from sklearn.utils.graph_shortest_path import graph_shortest_path\n",
    "%matplotlib inline"
   ]
  },
  {
   "cell_type": "code",
   "execution_count": 5,
   "metadata": {},
   "outputs": [],
   "source": [
    "basedir = Path('../../../eleGraSPy')\n",
    "basedir = basedir / 'Cook et al revised Supplementary Information'\n",
    "matdir = basedir / 'SI 5 Connectome adjacency matrices Pedigo.xlsx'\n",
    "celldir = basedir / 'herm_cell_list_pedigo.xlsx'"
   ]
  },
  {
   "cell_type": "code",
   "execution_count": 6,
   "metadata": {},
   "outputs": [],
   "source": [
    "def emmons_excel_to_df(matdir, sheet_name):\n",
    "    df = pd.read_excel(matdir, sheet_name=sheet_name)\n",
    "    # get the in / out cells\n",
    "    # have to append some 0s to make into a square matrix\n",
    "    outs = df.index.values\n",
    "    ins = df.columns.values\n",
    "    not_outs = np.setdiff1d(ins, outs)\n",
    "    not_outs_df = pd.DataFrame(columns=df.columns)\n",
    "    temp = np.empty((len(not_outs), len(ins)))\n",
    "    temp[:] = 0\n",
    "    not_outs_df = pd.DataFrame(temp)\n",
    "    not_outs_df.columns = df.columns\n",
    "    not_outs_df.index = not_outs\n",
    "    df_full = pd.concat([df, not_outs_df])\n",
    "    # reindex so that indices on matrices mean the same thing\n",
    "    df_full = df_full.reindex(list(ins))\n",
    "    return df_full"
   ]
  },
  {
   "cell_type": "code",
   "execution_count": 7,
   "metadata": {},
   "outputs": [],
   "source": [
    "# get the excels as data frames, and add the missing values\n",
    "herm_chem_df_full = emmons_excel_to_df(matdir, sheet_name=0)"
   ]
  },
  {
   "cell_type": "code",
   "execution_count": 42,
   "metadata": {},
   "outputs": [],
   "source": [
    "#herm_chem_A_full = full adjacency matrix (453,453)\n",
    "#herm_chem_A_self = Weighted adjacency matrix of lcc (446,446)\n",
    "#herm_self_inds = matrix indices from input\n",
    "herm_chem_A_self, herm_self_inds = get_lcc(herm_chem_A_full, return_inds=True)\n",
    "#herm_cells = vertex anatomical labels\n",
    "_, herm_cells = get_lcc(herm_chem_g, return_inds=True)"
   ]
  },
  {
   "cell_type": "code",
   "execution_count": 156,
   "metadata": {},
   "outputs": [],
   "source": [
    "# get directed and undirected graphs \n",
    "g = nx.DiGraph()\n",
    "herm_chem_g = nx.from_pandas_adjacency(herm_chem_df_full, create_using=g)\n",
    "herm_chem_A_full = nx.to_numpy_array(herm_chem_g)\n",
    "\n",
    "# Scott's cell metadata\n",
    "cell_info = pd.read_excel(celldir, sheet_name=0)\n",
    "cell_names = cell_info.index.values\n",
    "cell_types1 = cell_info.loc[herm_cells, 'type1'].values\n",
    "cell_types2 = cell_info.loc[herm_cells, 'type2'].values"
   ]
  },
  {
   "cell_type": "code",
   "execution_count": 186,
   "metadata": {},
   "outputs": [],
   "source": [
    "#def get_subgraph(start_nodes,end_nodes,adj):\n",
    "herm_chem_lcc = nx.from_numpy_matrix(herm_chem_A_self,create_using=nx.DiGraph)"
   ]
  },
  {
   "cell_type": "code",
   "execution_count": 307,
   "metadata": {},
   "outputs": [],
   "source": [
    "endorgans_sex = [i for i,name in enumerate(herm_cells) for t1,t2 in cell_info[cell_info.index == name].values if t1 == 'endorgan' and 'sex' in t2]"
   ]
  },
  {
   "cell_type": "code",
   "execution_count": 313,
   "metadata": {},
   "outputs": [],
   "source": [
    "sensors = [i for i,name in enumerate(herm_cells) for t1,t2 in cell_info[cell_info.index == name].values if t1 == 'sensory']"
   ]
  },
  {
   "cell_type": "code",
   "execution_count": 281,
   "metadata": {},
   "outputs": [
    {
     "data": {
      "text/plain": [
       "[{'weight': 30.0}]"
      ]
     },
     "execution_count": 281,
     "metadata": {},
     "output_type": "execute_result"
    }
   ],
   "source": [
    "[herm_chem_lcc.edges[i,j] for i,j in herm_chem_lcc.in_edges(endorgans_sex[3])]"
   ]
  },
  {
   "cell_type": "code",
   "execution_count": 323,
   "metadata": {},
   "outputs": [],
   "source": [
    "def bfs(g,start_nodes,end_nodes=[],reverse=False):\n",
    "    visited_inds = {n:(n in start_nodes)for n in g.nodes}\n",
    "    queue = start_nodes.copy()\n",
    "    while not len(queue) == 0:\n",
    "        q = queue.pop(0)\n",
    "        if q in end_nodes:\n",
    "            continue\n",
    "        if reverse:\n",
    "            nodes = [i for i,_ in g.in_edges(q)]\n",
    "        else:\n",
    "            nodes = [i for _,i in g.out_edges(q)]\n",
    "        for n in nodes:\n",
    "            if visited_inds[n] == False:\n",
    "                queue.append(n)\n",
    "                visited_inds[n] = True\n",
    "                \n",
    "    inds = [i for i in visited_inds.keys() if visited_inds[i]==True]\n",
    "    return(g.subgraph(inds),inds)"
   ]
  },
  {
   "cell_type": "code",
   "execution_count": 324,
   "metadata": {},
   "outputs": [],
   "source": [
    "ff_g,ff_inds = bfs(herm_chem_lcc,sensors,end_nodes=endorgans_sex,reverse=False)"
   ]
  },
  {
   "cell_type": "code",
   "execution_count": 325,
   "metadata": {},
   "outputs": [],
   "source": [
    "rf_g,rf_inds = bfs(herm_chem_lcc,endorgans_sex,end_nodes=sensors,reverse=True)"
   ]
  },
  {
   "cell_type": "code",
   "execution_count": 335,
   "metadata": {},
   "outputs": [],
   "source": [
    "repro_inds = list(set(ff_inds).intersection(set(rf_inds)))\n",
    "herm_chem_repro = herm_chem_lcc.subgraph(repro_inds)\n",
    "herm_cells_repro = [name for i,name in enumerate(herm_cells) if i in repro_inds]"
   ]
  },
  {
   "cell_type": "code",
   "execution_count": 342,
   "metadata": {},
   "outputs": [
    {
     "data": {
      "text/plain": [
       "<matplotlib.axes._subplots.AxesSubplot at 0x12cfa1f2b38>"
      ]
     },
     "execution_count": 342,
     "metadata": {},
     "output_type": "execute_result"
    },
    {
     "data": {
      "image/png": "[encoded data removed]",
      "text/plain": [
       "<matplotlib.figure.Figure at 0x12cf9c376a0>"
      ]
     },
     "metadata": {},
     "output_type": "display_data"
    }
   ],
   "source": [
    "heatmap(herm_chem_repro,\n",
    "        transform='log',\n",
    "        title='Hermaphrodite - log scale')"
   ]
  },
  {
   "cell_type": "code",
   "execution_count": 357,
   "metadata": {},
   "outputs": [],
   "source": [
    "end_organs = [i for i,name in enumerate(herm_cells) for t1,t2 in cell_info[cell_info.index == name].values if t1=='endorgan' and not t2=='neuron']"
   ]
  },
  {
   "cell_type": "code",
   "execution_count": null,
   "metadata": {},
   "outputs": [],
   "source": []
  }
 ],
 "metadata": {
  "kernelspec": {
   "display_name": "Python 3",
   "language": "python",
   "name": "python3"
  },
  "language_info": {
   "codemirror_mode": {
    "name": "ipython",
    "version": 3
   },
   "file_extension": ".py",
   "mimetype": "text/x-python",
   "name": "python",
   "nbconvert_exporter": "python",
   "pygments_lexer": "ipython3",
   "version": "3.6.3"
  }
 },
 "nbformat": 4,
 "nbformat_minor": 2
}
